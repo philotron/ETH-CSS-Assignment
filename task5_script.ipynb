{
 "cells": [
  {
   "cell_type": "markdown",
   "metadata": {},
   "source": [
    "# Task 5 \n",
    "\n",
    "In respect of the fifth task of the assignment, the goal is to categorize names of parties involved in patent litigation. Each name has to be classified as either \"individual\", \"organization\" or \"unknown\". In the field of NLP, this subtask of information extraction is generally known as named entity recognition (NER)."
   ]
  },
  {
   "cell_type": "code",
   "execution_count": 1,
   "metadata": {},
   "outputs": [],
   "source": [
    "# import relevant packages\n",
    "import numpy as np\n",
    "from collections import Counter\n",
    "import pandas as pd\n",
    "import en_core_web_sm"
   ]
  },
  {
   "cell_type": "markdown",
   "metadata": {},
   "source": [
    "First, the downloaded patent litigation file is loaded into the Jupyter Notebook environment. To get a quick overview of the data, the pandas info() method is used along with the sample() method to print out ten random rows. For the task at hand, the only important column is the name column. From the output below, it can be concluded that there are no missing values. It looks like the entries have some sort of underlying structure, since there are multiple records with company names, followed by their legal form, though their casing is inconsistent."
   ]
  },
  {
   "cell_type": "code",
   "execution_count": 2,
   "metadata": {},
   "outputs": [
    {
     "name": "stdout",
     "output_type": "stream",
     "text": [
      "<class 'pandas.core.frame.DataFrame'>\n",
      "RangeIndex: 4000 entries, 0 to 3999\n",
      "Data columns (total 6 columns):\n",
      "case_row_id        4000 non-null int64\n",
      "case_number        4000 non-null object\n",
      "party_row_count    4000 non-null int64\n",
      "party_type         4000 non-null object\n",
      "name_row_count     4000 non-null int64\n",
      "name               4000 non-null object\n",
      "dtypes: int64(3), object(3)\n",
      "memory usage: 187.6+ KB\n",
      "None\n"
     ]
    },
    {
     "data": {
      "text/html": [
       "<div>\n",
       "<style scoped>\n",
       "    .dataframe tbody tr th:only-of-type {\n",
       "        vertical-align: middle;\n",
       "    }\n",
       "\n",
       "    .dataframe tbody tr th {\n",
       "        vertical-align: top;\n",
       "    }\n",
       "\n",
       "    .dataframe thead th {\n",
       "        text-align: right;\n",
       "    }\n",
       "</style>\n",
       "<table border=\"1\" class=\"dataframe\">\n",
       "  <thead>\n",
       "    <tr style=\"text-align: right;\">\n",
       "      <th></th>\n",
       "      <th>case_row_id</th>\n",
       "      <th>case_number</th>\n",
       "      <th>party_row_count</th>\n",
       "      <th>party_type</th>\n",
       "      <th>name_row_count</th>\n",
       "      <th>name</th>\n",
       "    </tr>\n",
       "  </thead>\n",
       "  <tbody>\n",
       "    <tr>\n",
       "      <th>555</th>\n",
       "      <td>26338</td>\n",
       "      <td>1:15-cv-02350-RMB-JS</td>\n",
       "      <td>139925</td>\n",
       "      <td>Counter Defendant</td>\n",
       "      <td>172623</td>\n",
       "      <td>GILEAD SCIENCES, INC.</td>\n",
       "    </tr>\n",
       "    <tr>\n",
       "      <th>3491</th>\n",
       "      <td>23011</td>\n",
       "      <td>1:13-cv-02778</td>\n",
       "      <td>124256</td>\n",
       "      <td>Defendant</td>\n",
       "      <td>154742</td>\n",
       "      <td>Zoje Kitchen &amp; Bath Co., Ltd.</td>\n",
       "    </tr>\n",
       "    <tr>\n",
       "      <th>527</th>\n",
       "      <td>54146</td>\n",
       "      <td>3:07-cv-00710</td>\n",
       "      <td>300945</td>\n",
       "      <td>Third Party Defendant</td>\n",
       "      <td>392833</td>\n",
       "      <td>Third Party DefendantTERMINATED: 11/20/2008</td>\n",
       "    </tr>\n",
       "    <tr>\n",
       "      <th>3925</th>\n",
       "      <td>38014</td>\n",
       "      <td>2:09-cv-00228-WJM-MF</td>\n",
       "      <td>209893</td>\n",
       "      <td>Plaintiff</td>\n",
       "      <td>267235</td>\n",
       "      <td>TERMINATED: 06/02/2009</td>\n",
       "    </tr>\n",
       "    <tr>\n",
       "      <th>2989</th>\n",
       "      <td>16618</td>\n",
       "      <td>1:10-cv-00269-SLR</td>\n",
       "      <td>88610</td>\n",
       "      <td>Counter Defendant</td>\n",
       "      <td>110706</td>\n",
       "      <td>LEO Pharma A/S</td>\n",
       "    </tr>\n",
       "    <tr>\n",
       "      <th>70</th>\n",
       "      <td>54706</td>\n",
       "      <td>3:08-cv-01314-WHA</td>\n",
       "      <td>304640</td>\n",
       "      <td>Defendant</td>\n",
       "      <td>397716</td>\n",
       "      <td>A.C.N. 120 786 012 PTY Ltd.</td>\n",
       "    </tr>\n",
       "    <tr>\n",
       "      <th>1756</th>\n",
       "      <td>52699</td>\n",
       "      <td>3:03-cv-05697-WHA</td>\n",
       "      <td>292714</td>\n",
       "      <td>Defendant</td>\n",
       "      <td>381608</td>\n",
       "      <td>D&amp;J Sports, Inc.</td>\n",
       "    </tr>\n",
       "    <tr>\n",
       "      <th>211</th>\n",
       "      <td>67016</td>\n",
       "      <td>6:95-cv-01574-RTH-MEM</td>\n",
       "      <td>375933</td>\n",
       "      <td>Counter Claimant</td>\n",
       "      <td>490094</td>\n",
       "      <td>Conrad Schatzle</td>\n",
       "    </tr>\n",
       "    <tr>\n",
       "      <th>196</th>\n",
       "      <td>36014</td>\n",
       "      <td>2:06-cv-03604-DRH-AKT</td>\n",
       "      <td>191796</td>\n",
       "      <td>Defendant</td>\n",
       "      <td>240918</td>\n",
       "      <td>IDT, Inc.</td>\n",
       "    </tr>\n",
       "    <tr>\n",
       "      <th>803</th>\n",
       "      <td>37156</td>\n",
       "      <td>2:08-cv-00006</td>\n",
       "      <td>202653</td>\n",
       "      <td>Counter Defendant</td>\n",
       "      <td>256827</td>\n",
       "      <td>Credit Card Fraud Control Corporation</td>\n",
       "    </tr>\n",
       "  </tbody>\n",
       "</table>\n",
       "</div>"
      ],
      "text/plain": [
       "      case_row_id            case_number  party_row_count  \\\n",
       "555         26338   1:15-cv-02350-RMB-JS           139925   \n",
       "3491        23011          1:13-cv-02778           124256   \n",
       "527         54146          3:07-cv-00710           300945   \n",
       "3925        38014   2:09-cv-00228-WJM-MF           209893   \n",
       "2989        16618      1:10-cv-00269-SLR            88610   \n",
       "70          54706      3:08-cv-01314-WHA           304640   \n",
       "1756        52699      3:03-cv-05697-WHA           292714   \n",
       "211         67016  6:95-cv-01574-RTH-MEM           375933   \n",
       "196         36014  2:06-cv-03604-DRH-AKT           191796   \n",
       "803         37156          2:08-cv-00006           202653   \n",
       "\n",
       "                 party_type  name_row_count  \\\n",
       "555       Counter Defendant          172623   \n",
       "3491              Defendant          154742   \n",
       "527   Third Party Defendant          392833   \n",
       "3925              Plaintiff          267235   \n",
       "2989      Counter Defendant          110706   \n",
       "70                Defendant          397716   \n",
       "1756              Defendant          381608   \n",
       "211        Counter Claimant          490094   \n",
       "196               Defendant          240918   \n",
       "803       Counter Defendant          256827   \n",
       "\n",
       "                                             name  \n",
       "555                         GILEAD SCIENCES, INC.  \n",
       "3491                Zoje Kitchen & Bath Co., Ltd.  \n",
       "527   Third Party DefendantTERMINATED: 11/20/2008  \n",
       "3925                       TERMINATED: 06/02/2009  \n",
       "2989                               LEO Pharma A/S  \n",
       "70                    A.C.N. 120 786 012 PTY Ltd.  \n",
       "1756                             D&J Sports, Inc.  \n",
       "211                               Conrad Schatzle  \n",
       "196                                     IDT, Inc.  \n",
       "803         Credit Card Fraud Control Corporation  "
      ]
     },
     "execution_count": 2,
     "metadata": {},
     "output_type": "execute_result"
    }
   ],
   "source": [
    "# specify file path and read in data set as a dataframe\n",
    "data_file_path = \"./task5_data/patent_litigation_parties.csv\"\n",
    "patent_litigation_df = pd.read_csv(data_file_path)\n",
    "df = patent_litigation_df\n",
    "print(patent_litigation_df.info())\n",
    "patent_litigation_df.sample(10, random_state=42)"
   ]
  },
  {
   "cell_type": "markdown",
   "metadata": {},
   "source": [
    "#### Description of classification approach\n",
    "\n",
    "Because of the time constraints, a simple yet effective classification technique is required. There exist rule-based and machine learning approaches for NER. Considering the task at hand, the idea is to develop a hybrid approach that first uses rule-based classification and then a pretrained classifier.\n",
    "\n",
    "In brief, the idea is to apply a rule-based classifier that detects terms or abbreviations for the most common legal forms, for example Inc., Corp., or Limited. That way, a number of party names can be categorized into organizations with a very high accuracy.\n",
    "As for the remaining unclassified records, a pretrained neural model of the spacy package is imported (https://spacy.io/models/en). It can distinguish between organizations, persons, locations, dates, as well as other entities. Ultimately, the determined entities of both the rule-based and model-based approach are combined to predict one of the three party name categories."
   ]
  },
  {
   "cell_type": "markdown",
   "metadata": {},
   "source": [
    "#### Text preprocessing\n",
    "\n",
    "The text preparation in this task is done in a few steps. It consists of lowercasing and punctuation removal. The preprocessed names are only needed for the rule-based classifier, so that differently written legal forms map to the same word, for example, \"INC\", \"Inc\", and \"Inc.\" map to the same word \"inc\". Prevalent legal forms, which can be identified in the list of the 50 most frequent word tokens printed below, are used for the rule-based approach. In contrast, the pretrained spacy model is case sensitive and will therefore use the unprocessed names."
   ]
  },
  {
   "cell_type": "code",
   "execution_count": 3,
   "metadata": {},
   "outputs": [
    {
     "name": "stdout",
     "output_type": "stream",
     "text": [
      "List of the 50 most frequent tokens in the form ('word', frequency):\n",
      "[('inc', 1231), ('corporation', 549), ('llc', 416), ('terminated:', 372), ('a', 325), ('company', 184), ('ltd', 118), ('technologies', 91), ('of', 90), ('delaware', 89), ('co', 89), ('international', 88), ('corp', 86), ('as', 85), ('usa', 83), ('america', 78), ('products', 76), ('systems', 73), ('business', 68), ('incorporated', 64), ('limited', 64), ('&', 62), ('an', 57), ('the', 56), ('doing', 55), ('industries', 54), ('california', 52), ('group', 50), ('consolidated', 48), ('electronics', 46), ('technology', 42), ('and', 39), ('pharmaceuticals', 37), ('manufacturing', 36), ('civil', 32), ('lp', 32), ('solutions', 32), ('liability', 32), ('communications', 31), ('laboratories', 30), ('action', 29), ('new', 29), ('known', 28), ('medical', 27), ('individual', 27), ('us', 26), ('north', 26), ('holdings', 26), ('united', 25), ('sa', 24)]\n"
     ]
    }
   ],
   "source": [
    "# create new column for preprocessed names\n",
    "patent_litigation_df[\"preprocessed_name\"] = patent_litigation_df[\"name\"]\n",
    "\n",
    "# apply lowercasing\n",
    "patent_litigation_df[\"preprocessed_name\"] = patent_litigation_df[\"preprocessed_name\"].str.lower()\n",
    "\n",
    "# remove relevant punctuation marks\n",
    "for char in [\",\", \".\", \"(\", \")\", \"/\"]:\n",
    "    patent_litigation_df[\"preprocessed_name\"] = patent_litigation_df[\"preprocessed_name\"].str.replace(char, \"\")\n",
    "    \n",
    "# remove redundant whitespaces between words\n",
    "patent_litigation_df[\"preprocessed_name\"] = patent_litigation_df[\"preprocessed_name\"].str.replace(\"\\s+\", \" \", regex=True)\n",
    "patent_litigation_df[\"preprocessed_name\"] = patent_litigation_df[\"preprocessed_name\"].str.strip()\n",
    "\n",
    "# print 50 most frequent word tokens to identify common legal forms\n",
    "party_names_list = patent_litigation_df[\"preprocessed_name\"].to_list()\n",
    "party_names_list = \" \".join(party_names_list).split(\" \")\n",
    "print(\"List of the 50 most frequent tokens in the form ('word', frequency):\")\n",
    "print(Counter(party_names_list).most_common(50))"
   ]
  },
  {
   "cell_type": "markdown",
   "metadata": {},
   "source": [
    "#### Rule-based classification"
   ]
  },
  {
   "cell_type": "code",
   "execution_count": 4,
   "metadata": {},
   "outputs": [],
   "source": [
    "def detect_legal_form(string_arg):\n",
    "    \"\"\"A function that takes in a string, tokenizes it, and checks if each word token represents a specified legal form.\"\"\"\n",
    "    legal_form_list = [\"inc\", \"incorporated\", \"llc\", \"corp\", \"corporation\", \n",
    "                       \"ltd\", \"limited\", \"company\", \"lp\", \"holdings\", \"sa\", \"gmbh\"]\n",
    "    string_arg_list = string_arg.split()\n",
    "    for i in string_arg_list:\n",
    "        if i in legal_form_list:\n",
    "            return [(\"ORG\", i)]\n",
    "        elif i == string_arg_list[-1]:\n",
    "            return []\n",
    "        else: pass"
   ]
  },
  {
   "cell_type": "code",
   "execution_count": 5,
   "metadata": {},
   "outputs": [],
   "source": [
    "# map detect_legal_form() function over series of preprocessed party names\n",
    "patent_litigation_df[\"rule_based_named_entities\"] = None\n",
    "patent_litigation_df[\"rule_based_named_entities\"] = patent_litigation_df[\"preprocessed_name\"].map(detect_legal_form)"
   ]
  },
  {
   "cell_type": "markdown",
   "metadata": {},
   "source": [
    "#### Model-based classification"
   ]
  },
  {
   "cell_type": "code",
   "execution_count": 6,
   "metadata": {},
   "outputs": [],
   "source": [
    "# load spacy entity recognition model and apply it on series of party names\n",
    "spacy_ner_model = en_core_web_sm.load()\n",
    "patent_litigation_df[\"model_based_named_entities\"] = None\n",
    "patent_litigation_df[\"model_based_named_entities\"] = patent_litigation_df[\"name\"].map(lambda x: [(y.label_, y.text) for y in spacy_ner_model(x).ents])"
   ]
  },
  {
   "cell_type": "markdown",
   "metadata": {},
   "source": [
    "#### Final prediction of class labels\n",
    "\n",
    "In the last step, the results of the rule-based and model-based classifications are combined into a list of named entities to determine the class label. If an organizational entity \"ORG\" is included in the list, then the label \"organization\" is predicted. The same holds true if names of countries \"GPE\"/Geopolitical entity\" are recognized, since  every country by itself represents an organization of a nation. The label \"individual\" is predicted if, and only if, a detected name leads the model to output a \"PERSON\" entity without any other entity. This is important, as sometimes \"ORG\" and \"PERSON\" entities can occur together when a person's name is part of a company's name. If the prediction falls not into one of the former cases, the label \"unknown\" is assigned."
   ]
  },
  {
   "cell_type": "code",
   "execution_count": 7,
   "metadata": {},
   "outputs": [],
   "source": [
    "def classify_named_entity(list_arg):\n",
    "    \"\"\"A function that takes in recognized entities and outputs the final class prediction.\"\"\"\n",
    "    if len(list_arg) > 0:\n",
    "        ne_list = list(zip(*list_arg))[0]\n",
    "        if \"ORG\" in ne_list:\n",
    "            return \"organization\"\n",
    "        elif \"GPE\" in ne_list:\n",
    "            return \"organization\"\n",
    "        elif (\"PERSON\" in ne_list and \"ORG\" not in ne_list): \n",
    "            return \"individual\"\n",
    "        else: return \"unknown\"\n",
    "    else: return \"unknown\""
   ]
  },
  {
   "cell_type": "code",
   "execution_count": 8,
   "metadata": {},
   "outputs": [],
   "source": [
    "# determine class of named entitiy predictions and store them in a new CSV file\n",
    "patent_litigation_df[\"class_prediction\"] = patent_litigation_df[\"rule_based_named_entities\"] + patent_litigation_df[\"model_based_named_entities\"]\n",
    "patent_litigation_df[\"class_prediction\"] = patent_litigation_df[\"class_prediction\"].map(classify_named_entity)\n",
    "patent_litigation_df.to_csv(\"./task5_data/patent_litigation_parties_classified.csv\", encoding=\"utf-8\", index=False)"
   ]
  },
  {
   "cell_type": "markdown",
   "metadata": {},
   "source": [
    "In order to get a rough idea about the classification accuracy without too much effort, 200 randomly selected party names are classified manually - the sampling was done with the command `patent_litigation_df.sample(200, random_state=42)`. The comparison with the algorithmic classifications indicated an accuracy score of 0.955. "
   ]
  },
  {
   "cell_type": "code",
   "execution_count": 9,
   "metadata": {},
   "outputs": [
    {
     "name": "stdout",
     "output_type": "stream",
     "text": [
      "From a total of 200 instances, exactly 191 instances are classified correctly. The accuracy score is 0.955.\n"
     ]
    }
   ],
   "source": [
    "# load manually labeled party names\n",
    "data_file_path = \"./task5_data/party_names_validation_data.csv\"\n",
    "validation_df = pd.read_csv(data_file_path)\n",
    "validation_df = pd.merge(patent_litigation_df, validation_df)\n",
    "\n",
    "# determine accuracy of classifier with numpy vector\n",
    "accuracy_vector = np.where((validation_df[\"class_prediction\"] == validation_df[\"class\"]), 1, 0)\n",
    "print(\"From a total of {} instances, exactly {} instances are classified correctly. The accuracy score is {}.\".format(len(accuracy_vector), np.sum(accuracy_vector), np.mean(accuracy_vector)))\n",
    "validation_df.to_csv(\"./task5_data/classifier_accuracy_data.csv\", encoding=\"utf-8\", index=False)"
   ]
  }
 ],
 "metadata": {
  "kernelspec": {
   "display_name": "Python 3",
   "language": "python",
   "name": "python3"
  },
  "language_info": {
   "codemirror_mode": {
    "name": "ipython",
    "version": 3
   },
   "file_extension": ".py",
   "mimetype": "text/x-python",
   "name": "python",
   "nbconvert_exporter": "python",
   "pygments_lexer": "ipython3",
   "version": "3.7.3"
  }
 },
 "nbformat": 4,
 "nbformat_minor": 2
}
